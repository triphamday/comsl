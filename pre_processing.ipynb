{
 "cells": [
  {
   "cell_type": "markdown",
   "id": "3870abab",
   "metadata": {},
   "source": [
    "# Kiểm tra và xóa các file audio không có trong validated"
   ]
  },
  {
   "cell_type": "code",
   "execution_count": null,
   "id": "88c9a5db",
   "metadata": {},
   "outputs": [
    {
     "name": "stdout",
     "output_type": "stream",
     "text": [
      "Số lượng dòng trong các file tsv:\n",
      "validated.tsv: 5899\n",
      "\n",
      "Số lượng audio trong folder clips: 7064\n"
     ]
    }
   ],
   "source": [
    "import os\n",
    "\n",
    "data_dir = \"C:\\ComSL\\swedish_dataset\" # sửa path \n",
    "clips_dir = os.path.join(data_dir, \"clips\")\n",
    "\n",
    "tsv_files = [\n",
    "    \"validated.tsv\"\n",
    "]\n",
    "\n",
    "print(\"Số lượng dòng trong các file tsv:\")\n",
    "for tsv_file in tsv_files:\n",
    "    tsv_path = os.path.join(data_dir, tsv_file)  \n",
    "    try:\n",
    "        with open(tsv_path, 'r', encoding='utf-8') as f:\n",
    "            line_count = sum(1 for line in f)\n",
    "        print(f\"{tsv_file}: {line_count}\")\n",
    "    except Exception as e:\n",
    "        print(f\"{tsv_file}: Lỗi - {e}\")\n",
    "\n",
    "audio_extensions = ('.mp3', '.wav', '.flac', '.ogg')\n",
    "audio_count = sum(1 for f in os.listdir(clips_dir) if f.lower().endswith(audio_extensions))\n",
    "print(f\"\\nSố lượng audio trong folder clips: {audio_count}\")"
   ]
  },
  {
   "cell_type": "code",
   "execution_count": 7,
   "id": "5676a4f5",
   "metadata": {},
   "outputs": [
    {
     "name": "stdout",
     "output_type": "stream",
     "text": [
      "Số lượng dòng trong các file tsv:\n",
      "covost_v2.sv-SE_en.tsv: 5899\n"
     ]
    }
   ],
   "source": [
    "tsv_files = [\n",
    "    \"covost_v2.sv-SE_en.tsv\" # sửa path \n",
    "]\n",
    "\n",
    "print(\"Số lượng dòng trong các file tsv:\")\n",
    "for tsv_file in tsv_files:\n",
    "    tsv_path = os.path.join(data_dir, tsv_file)  \n",
    "    try:\n",
    "        with open(tsv_path, 'r', encoding='utf-8') as f:\n",
    "            line_count = sum(1 for line in f)\n",
    "        print(f\"{tsv_file}: {line_count}\")\n",
    "    except Exception as e:\n",
    "        print(f\"{tsv_file}: Lỗi - {e}\")"
   ]
  },
  {
   "cell_type": "code",
   "execution_count": 10,
   "id": "e8e6a63d",
   "metadata": {},
   "outputs": [
    {
     "name": "stdout",
     "output_type": "stream",
     "text": [
      "Đã xoá 0 file không có trong validated.tsv.\n"
     ]
    }
   ],
   "source": [
    "import os\n",
    "import csv\n",
    "\n",
    "data_dir = r\"C:\\ComSL\\swedish_dataset\" # sửa path\n",
    "clips_dir = os.path.join(data_dir, \"clips\")\n",
    "validated_tsv = os.path.join(data_dir, \"validated.tsv\")\n",
    "\n",
    "# Đọc tất cả path hợp lệ từ validated.tsv\n",
    "valid_paths = set()\n",
    "with open(validated_tsv, 'r', encoding='utf-8') as tsvfile:\n",
    "    reader = csv.DictReader(tsvfile, delimiter='\\t')\n",
    "    for row in reader:\n",
    "        valid_paths.add(row['path'])\n",
    "\n",
    "# Duyệt tất cả file trong clips, xoá file không có trong valid_paths\n",
    "deleted_count = 0\n",
    "for file_name in os.listdir(clips_dir):\n",
    "    if file_name not in valid_paths:\n",
    "        file_path = os.path.join(clips_dir, file_name)\n",
    "        try:\n",
    "            os.remove(file_path)\n",
    "            deleted_count += 1\n",
    "        except Exception as e:\n",
    "            print(f\"Lỗi xoá {file_name}: {e}\")\n",
    "\n",
    "print(f\"Đã xoá {deleted_count} file không có trong validated.tsv.\")"
   ]
  },
  {
   "cell_type": "markdown",
   "id": "0538f708",
   "metadata": {},
   "source": [
    "# Scale train/dev/test"
   ]
  },
  {
   "cell_type": "code",
   "execution_count": 2,
   "id": "83ceaa14",
   "metadata": {},
   "outputs": [],
   "source": [
    "import pandas as pd"
   ]
  },
  {
   "cell_type": "code",
   "execution_count": 11,
   "id": "c4d3a54b",
   "metadata": {},
   "outputs": [
    {
     "name": "stdout",
     "output_type": "stream",
     "text": [
      "Đã tạo file: C:\\ComSL\\swedish_dataset\\covost_v2.sv-SE_en.train.tsv với 1200 dòng\n"
     ]
    },
    {
     "data": {
      "text/plain": [
       "1200"
      ]
     },
     "execution_count": 11,
     "metadata": {},
     "output_type": "execute_result"
    }
   ],
   "source": [
    "tsv_path = \"C:\\ComSL\\swedish_dataset\\covost_v2.sv-SE_en.train.tsv\" # sửa path\n",
    "df = pd.read_csv(tsv_path, sep=\"\\t\")\n",
    "\n",
    "# Giữ lại 1200 dòng đầu tiên\n",
    "train_df = df.head(1200)\n",
    "\n",
    "# Lưu ra file mới (ví dụ ở thư mục working, hoặc ghi đè nếu muốn)\n",
    "train_tsv_path = \"C:\\ComSL\\swedish_dataset\\covost_v2.sv-SE_en.train.tsv\" # sửa path\n",
    "train_df.to_csv(train_tsv_path, sep=\"\\t\", index=False)\n",
    "\n",
    "print(f\"Đã tạo file: {train_tsv_path} với {len(train_df)} dòng\")\n",
    "len(train_df)"
   ]
  },
  {
   "cell_type": "code",
   "execution_count": 13,
   "id": "859f1ce9",
   "metadata": {},
   "outputs": [
    {
     "name": "stdout",
     "output_type": "stream",
     "text": [
      "Đã tạo file: C:\\ComSL\\swedish_dataset\\covost_v2.sv-SE_en.test.tsv với 150 dòng\n"
     ]
    },
    {
     "data": {
      "text/plain": [
       "150"
      ]
     },
     "execution_count": 13,
     "metadata": {},
     "output_type": "execute_result"
    }
   ],
   "source": [
    "tsv_path = \"C:\\ComSL\\swedish_dataset\\covost_v2.sv-SE_en.test.tsv\" # sửa path\n",
    "df = pd.read_csv(tsv_path, sep=\"\\t\")\n",
    "\n",
    "# Giữ lại 150 dòng đầu tiên\n",
    "test_df = df.head(150)\n",
    "\n",
    "test_tsv_path = \"C:\\ComSL\\swedish_dataset\\covost_v2.sv-SE_en.test.tsv\"\n",
    "test_df.to_csv(test_tsv_path, sep=\"\\t\", index=False)\n",
    "\n",
    "print(f\"Đã tạo file: {test_tsv_path} với {len(test_df)} dòng\")\n",
    "len(test_df)"
   ]
  },
  {
   "cell_type": "code",
   "execution_count": 12,
   "id": "2405d8e0",
   "metadata": {},
   "outputs": [
    {
     "name": "stdout",
     "output_type": "stream",
     "text": [
      "Đã tạo file: C:\\ComSL\\swedish_dataset\\covost_v2.sv-SE_en.dev.tsv với 150 dòng\n"
     ]
    },
    {
     "data": {
      "text/plain": [
       "150"
      ]
     },
     "execution_count": 12,
     "metadata": {},
     "output_type": "execute_result"
    }
   ],
   "source": [
    "tsv_path = \"C:\\ComSL\\swedish_dataset\\covost_v2.sv-SE_en.dev.tsv\" # sửa path\n",
    "df = pd.read_csv(tsv_path, sep=\"\\t\")\n",
    "\n",
    "# Giữ lại 150 dòng đầu tiên\n",
    "dev_df = df.head(150)\n",
    "\n",
    "# Lưu ra file mới (ví dụ ở thư mục working, hoặc ghi đè nếu muốn)\n",
    "dev_tsv_path = \"C:\\ComSL\\swedish_dataset\\covost_v2.sv-SE_en.dev.tsv\"\n",
    "dev_df.to_csv(dev_tsv_path, sep=\"\\t\", index=False)\n",
    "\n",
    "print(f\"Đã tạo file: {dev_tsv_path} với {len(dev_df)} dòng\")\n",
    "len(dev_df)"
   ]
  },
  {
   "cell_type": "markdown",
   "id": "30eecdbf",
   "metadata": {},
   "source": [
    "# Kaggle - Visualize "
   ]
  },
  {
   "cell_type": "markdown",
   "id": "0451f527",
   "metadata": {},
   "source": [
    "%pip install tensorboard"
   ]
  },
  {
   "cell_type": "code",
   "execution_count": null,
   "id": "0c8a2421",
   "metadata": {},
   "outputs": [],
   "source": [
    "import os\n",
    "\n",
    "for file in os.listdir(\"/kaggle/working/comsl/output/comsl_mn2en/logs/ComST/default\"):\n",
    "    print(file)"
   ]
  },
  {
   "cell_type": "code",
   "execution_count": null,
   "id": "0f880d0e",
   "metadata": {},
   "outputs": [],
   "source": [
    "from tensorboard.backend.event_processing.event_accumulator import EventAccumulator\n",
    "import os\n",
    "\n",
    "log_dir = \"/kaggle/working/comsl/output/comsl_mn2en/logs/ComST/default\"\n",
    "# Chọn file events lớn nhất/thường là mới nhất\n",
    "event_files = [f for f in os.listdir(log_dir) if f.startswith('events.out')]\n",
    "event_path = os.path.join(log_dir, sorted(event_files)[-1])\n",
    "\n",
    "event_acc = EventAccumulator(event_path)\n",
    "event_acc.Reload()\n",
    "\n",
    "print(\"Tất cả các scalar tag:\")\n",
    "print(event_acc.Tags()['scalars'])  # In ra các metric mà bạn có thể đọc"
   ]
  },
  {
   "cell_type": "code",
   "execution_count": null,
   "id": "0bf9ebf9",
   "metadata": {},
   "outputs": [],
   "source": [
    "%load_ext tensorboard\n",
    "%tensorboard --logdir /kaggle/working/comsl/output/comsl_mn2en/logs/ComST/default"
   ]
  },
  {
   "cell_type": "code",
   "execution_count": null,
   "id": "f294166e",
   "metadata": {},
   "outputs": [],
   "source": [
    "train_acc = event_acc.Scalars('train_acc_asr')\n",
    "train_acc"
   ]
  },
  {
   "cell_type": "code",
   "execution_count": null,
   "id": "5eec358c",
   "metadata": {},
   "outputs": [],
   "source": [
    "import numpy as np\n",
    "import matplotlib.pyplot as plt\n",
    "\n",
    "\n",
    "steps = np.array([e.step for e in train_acc])\n",
    "values = np.array([e.value for e in train_acc])\n",
    "\n",
    "num_samples = 1200\n",
    "batch_size = 10 \n",
    "num_epochs = 5\n",
    "steps_per_epoch = int(np.ceil(num_samples / batch_size))\n",
    "\n",
    "# Map step sang epoch\n",
    "epoch_ids = (steps // steps_per_epoch).astype(int)   # epoch bắt đầu từ 0\n",
    "\n",
    "# Lưu trữ accuracy cho từng epoch\n",
    "epoch_acc_dict = {}\n",
    "for epoch in range(num_epochs):\n",
    "    epoch_acc = values[epoch_ids == epoch]\n",
    "    if len(epoch_acc) > 0:\n",
    "        epoch_acc_dict[epoch+1] = epoch_acc.mean()  # lấy giá trị trung bình mỗi epoch\n",
    "    else:\n",
    "        epoch_acc_dict[epoch+1] = np.nan  # nếu epoch này chưa có dữ liệu\n",
    "\n",
    "# Convert về array để vẽ\n",
    "epochs = np.array(list(epoch_acc_dict.keys()))\n",
    "epoch_accs = np.array(list(epoch_acc_dict.values()))\n",
    "\n",
    "# Plot\n",
    "plt.plot(epochs, epoch_accs, marker='o')\n",
    "plt.xlabel(\"Epoch\")\n",
    "plt.ylabel(\"Train Accuracy (%)\")\n",
    "plt.title(\"Train Accuracy per Epoch\")\n",
    "plt.grid(True)\n",
    "plt.show()"
   ]
  },
  {
   "cell_type": "markdown",
   "id": "d1881c59",
   "metadata": {},
   "source": [
    "# Kaggle - download checkpoint"
   ]
  },
  {
   "cell_type": "code",
   "execution_count": null,
   "id": "1602dd7c",
   "metadata": {},
   "outputs": [],
   "source": []
  }
 ],
 "metadata": {
  "kernelspec": {
   "display_name": "env",
   "language": "python",
   "name": "python3"
  },
  "language_info": {
   "codemirror_mode": {
    "name": "ipython",
    "version": 3
   },
   "file_extension": ".py",
   "mimetype": "text/x-python",
   "name": "python",
   "nbconvert_exporter": "python",
   "pygments_lexer": "ipython3",
   "version": "3.11.6"
  }
 },
 "nbformat": 4,
 "nbformat_minor": 5
}
